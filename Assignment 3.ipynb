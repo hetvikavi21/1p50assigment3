{
 "cells": [
  {
   "cell_type": "code",
   "execution_count": 60,
   "id": "93bb411e",
   "metadata": {},
   "outputs": [
    {
     "name": "stdout",
     "output_type": "stream",
     "text": [
      "Intercept: [0.02915746]\n",
      "Coefficient: [[0.84854497 0.09576015]]\n"
     ]
    }
   ],
   "source": [
    "#Question 1 \n",
    "\n",
    "import numpy as np\n",
    "import pandas as pd\n",
    "import matplotlib.pyplot as plt\n",
    "from sklearn.linear_model import LinearRegression\n",
    "\n",
    "data = pd.read_csv(\"/Users/hetvikavi/Desktop/STAT 1P50/crime.csv\")\n",
    "\n",
    "X = data[['PctUnemployed','PctBSorMore']]\n",
    "y = data[['ViolentCrimesPerPop']]\n",
    "\n",
    "# fit the model\n",
    "model = LinearRegression()\n",
    "model.fit(X, y)\n",
    "\n",
    "# print the coefficients\n",
    "print('Intercept:', model.intercept_)\n",
    "print('Coefficient:', model.coef_)\n"
   ]
  },
  {
   "cell_type": "code",
   "execution_count": 71,
   "id": "59360d84",
   "metadata": {},
   "outputs": [
    {
     "name": "stdout",
     "output_type": "stream",
     "text": [
      "Intercept: 0.05026064752166065\n",
      "Coefficient: [ 0.56906083  0.21041265  0.19527306  0.21295658 -0.06307632]\n"
     ]
    }
   ],
   "source": [
    "# Question 2\n",
    "\n",
    "import pandas as pd\n",
    "from sklearn import linear_model\n",
    "\n",
    "data = pd.read_csv(\"/Users/hetvikavi/Desktop/STAT 1P50/crime.csv\")\n",
    "\n",
    "X = data[['PctPopUnderPov', 'PctUnemployed','PolicPerPop','Pcthomeless','PctBSorMore']]\n",
    "y = data['ViolentCrimesPerPop']\n",
    "\n",
    "regr = linear_model.LinearRegression()\n",
    "regr.fit(X, y)\n",
    "\n",
    "print('Intercept:', regr.intercept_)\n",
    "print('Coefficient:', regr.coef_)\n"
   ]
  },
  {
   "cell_type": "code",
   "execution_count": 76,
   "id": "dbfedb06",
   "metadata": {},
   "outputs": [
    {
     "name": "stdout",
     "output_type": "stream",
     "text": [
      "[1 1 1 1 1 1 1 1 1 1 1 1 1 1 1 1 1 1 1 1 0 1 1 1 1 1 0 0 1 1 1 1 1 1 1 1 0\n",
      " 1 1 1 1 1 1 1 0 1 1 1 1 1 1 1 1 1 1 1 1 1 1 1 1 1 1 1 1 1 1 1 1 1 1 1 1 1\n",
      " 1 1 1 1 1 1 1 1 1 1 1 1 1 1 1 1 1 1 1 0 0 0 0 0 0 1 0 0 0 0 0 0 0 0 0 0 0\n",
      " 0 0 0 0 0 0 0 0 0 0 0 0 0 0 0 0 0 0 0 0 0 0 0 0 0 0 0 0 0 0 0 0 0 0 0 0 0\n",
      " 0 0 0 0 0 0 0 0 0 0 0 0 0 0 0 0 0 0 0 0 0 0 0 0 0 0 0 0 0 0 0 0 0 0 0 0 0\n",
      " 0 0 0 0 0 0 0 0 0 0 0 0 0 0 0 0 0 0 0 0 0 0 0 0 0 0 0 0 0 0 0 0 0 0 0 0 0\n",
      " 0 0 0 0]\n"
     ]
    },
    {
     "name": "stderr",
     "output_type": "stream",
     "text": [
      "/Users/hetvikavi/opt/anaconda3/lib/python3.9/site-packages/sklearn/utils/validation.py:993: DataConversionWarning: A column-vector y was passed when a 1d array was expected. Please change the shape of y to (n_samples, ), for example using ravel().\n",
      "  y = column_or_1d(y, warn=True)\n",
      "/Users/hetvikavi/opt/anaconda3/lib/python3.9/site-packages/sklearn/linear_model/_logistic.py:814: ConvergenceWarning: lbfgs failed to converge (status=1):\n",
      "STOP: TOTAL NO. of ITERATIONS REACHED LIMIT.\n",
      "\n",
      "Increase the number of iterations (max_iter) or scale the data as shown in:\n",
      "    https://scikit-learn.org/stable/modules/preprocessing.html\n",
      "Please also refer to the documentation for alternative solver options:\n",
      "    https://scikit-learn.org/stable/modules/linear_model.html#logistic-regression\n",
      "  n_iter_i = _check_optimize_result(\n"
     ]
    }
   ],
   "source": [
    "# Question 3\n",
    "\n",
    "import numpy as np\n",
    "import pandas as pd\n",
    "from sklearn import linear_model\n",
    "\n",
    "#Reshaped for Logistic function.\n",
    "data = pd.read_csv(\"/Users/hetvikavi/Desktop/STAT 1P50/kidney_disease.csv\")\n",
    "\n",
    "X = pd.DataFrame(data[['age', 'bp','sod','pot','hemo','pcv','wc','rc']])\n",
    "y = pd.DataFrame(data[['ckd']])\n",
    "\n",
    "\n",
    "logr = linear_model.LogisticRegression()\n",
    "logr.fit(X,y)\n",
    "\n",
    "\n",
    "#predicts chronic kidney disease based on other variables in Kidney Disease Data. \n",
    "predicted = logr.predict(X)\n",
    "print(predicted)"
   ]
  },
  {
   "cell_type": "code",
   "execution_count": null,
   "id": "4be47eb1",
   "metadata": {},
   "outputs": [],
   "source": [
    "# Question 4\n",
    "\n",
    "from sklearn import train_test_split\n"
   ]
  },
  {
   "cell_type": "code",
   "execution_count": 62,
   "id": "6972acd9",
   "metadata": {},
   "outputs": [
    {
     "name": "stdout",
     "output_type": "stream",
     "text": [
      "3:82\n"
     ]
    }
   ],
   "source": [
    "# Question 5\n",
    "\n",
    "def get_frequency(input_string):\n",
    "    list_of_words = input_string.split(' ') \n",
    "    dict_of_frequencies = {}\n",
    "    length_of_text=len(input_string) #find the length of the text \n",
    "    for word in list_of_words:\n",
    "        if word in dict_of_frequencies.keys():\n",
    "            dict_of_frequencies[word] = dict_of_frequencies[word] + 1 \n",
    "        else:\n",
    "            dict_of_frequencies[word] = 1\n",
    "    most_frequent=0 # set most_frequent to 0 \n",
    "    for key,val in dict_of_frequencies.items(): \n",
    "        if(val>most_frequent): \n",
    "            most_frequent=val   \n",
    "    for i in range(2,most_frequent+1): \n",
    "        if(length_of_text%i==0 and most_frequent%i==0): \n",
    "            most_frequent=most_frequent/i  \n",
    "            length_of_text=length_of_text/i     \n",
    "    frequency_ratio= str(round(most_frequent)) +\":\"+str(round(length_of_text)) # find the frequency_ratio\n",
    "    return frequency_ratio # return the frequency_ratio \n",
    "#testcase 1 \n",
    "# display the  value return by the get_frequency function\n",
    "print(get_frequency(\"This book is nice and the book has got international fame but this book is costly.\")) \n"
   ]
  },
  {
   "cell_type": "code",
   "execution_count": null,
   "id": "9300d451",
   "metadata": {},
   "outputs": [],
   "source": [
    "#Question 6\n",
    "\n",
    "import pandas as pd\n",
    "from sklearn.model_selection import train_test_split\n",
    "from sklearn.linear_model import LogisticRegression\n",
    "from sklearn.metrics import accuracy_score\n",
    "\n",
    "data = pd.read_csv('email.csv')\n",
    "\n",
    "# adding empty columns\n",
    "data['hyperlink'] = None\n",
    "data['free'] = None\n",
    "data['click'] = None\n",
    "data['business'] = None\n",
    "data['frequency'] = None\n",
    "\n",
    "################## your code here ###################\n",
    "## you need to\n",
    "## 1. for each row\n",
    "## 1-1. check if the mail text includes the words\n",
    "## 'hyperlink', 'free', 'click', and 'business' and\n",
    "## fill the corresponding columns with 0 or 1\n",
    "## 1-2. Use the get_frequency function to get the ratio of\n",
    "## the most frequent word and fill the frequency column\n",
    "##\n",
    "## 2. split the data into the training (70%) and testing\n",
    "## (30%) data\n",
    "##\n",
    "## 3. Use LogisticRegression class of sklearn package\n",
    "## to train a model to predict the label of emails\n",
    "## based on the extracted features\n",
    "\n",
    "#######################################################"
   ]
  }
 ],
 "metadata": {
  "kernelspec": {
   "display_name": "Python 3 (ipykernel)",
   "language": "python",
   "name": "python3"
  },
  "language_info": {
   "codemirror_mode": {
    "name": "ipython",
    "version": 3
   },
   "file_extension": ".py",
   "mimetype": "text/x-python",
   "name": "python",
   "nbconvert_exporter": "python",
   "pygments_lexer": "ipython3",
   "version": "3.9.12"
  }
 },
 "nbformat": 4,
 "nbformat_minor": 5
}
